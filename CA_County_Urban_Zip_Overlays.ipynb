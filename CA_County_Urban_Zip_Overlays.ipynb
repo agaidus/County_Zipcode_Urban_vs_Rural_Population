{
 "cells": [
  {
   "cell_type": "markdown",
   "metadata": {},
   "source": [
    "# CA County Urban Populations from Zip Classifications\n",
    "\n",
    "I have a shapefile of California zip codes and a shapefile of California counties. I am given a set of rules that use housing unit density to classify zip codes into rural, urban, or exurban zip codes. The goal is to calculate the proportion of each county's population that lives within each of these zip code classifications.\n",
    "\n",
    "I demonstrate how to do this below because I think it is an example that makes good use of the overlaying and aggregating features in Pandas/Geopandas and demonstrates how they can be used to answer this question quite easily."
   ]
  },
  {
   "cell_type": "code",
   "execution_count": 1,
   "metadata": {
    "collapsed": false
   },
   "outputs": [],
   "source": [
    "#Import necessary modules\n",
    "%matplotlib inline\n",
    "import pandas as pd\n",
    "import geopandas as gpd\n",
    "import os\n",
    "from geopandas.tools import overlay\n",
    "import shapely"
   ]
  },
  {
   "cell_type": "markdown",
   "metadata": {},
   "source": [
    "First I read in the zip code shapefile to Geopandas. The GeoDataframe has both population and housing unit counts."
   ]
  },
  {
   "cell_type": "code",
   "execution_count": 2,
   "metadata": {
    "collapsed": false
   },
   "outputs": [
    {
     "data": {
      "text/html": [
       "<div>\n",
       "<table border=\"1\" class=\"dataframe\">\n",
       "  <thead>\n",
       "    <tr style=\"text-align: right;\">\n",
       "      <th></th>\n",
       "      <th>HU</th>\n",
       "      <th>POP</th>\n",
       "      <th>geometry</th>\n",
       "    </tr>\n",
       "    <tr>\n",
       "      <th>Zipcode</th>\n",
       "      <th></th>\n",
       "      <th></th>\n",
       "      <th></th>\n",
       "    </tr>\n",
       "  </thead>\n",
       "  <tbody>\n",
       "    <tr>\n",
       "      <th>12</th>\n",
       "      <td>0</td>\n",
       "      <td>0</td>\n",
       "      <td>POLYGON ((-84069.50625625165 251173.9768131553...</td>\n",
       "    </tr>\n",
       "    <tr>\n",
       "      <th>16</th>\n",
       "      <td>28</td>\n",
       "      <td>32</td>\n",
       "      <td>POLYGON ((146716.0443333071 -276914.8214906069...</td>\n",
       "    </tr>\n",
       "    <tr>\n",
       "      <th>17</th>\n",
       "      <td>56</td>\n",
       "      <td>15</td>\n",
       "      <td>POLYGON ((88071.41057265643 -49057.84702989308...</td>\n",
       "    </tr>\n",
       "    <tr>\n",
       "      <th>18</th>\n",
       "      <td>0</td>\n",
       "      <td>0</td>\n",
       "      <td>POLYGON ((93928.84706553049 -381979.052042436,...</td>\n",
       "    </tr>\n",
       "    <tr>\n",
       "      <th>19</th>\n",
       "      <td>26</td>\n",
       "      <td>36</td>\n",
       "      <td>POLYGON ((-9312.641563633806 307120.0380001596...</td>\n",
       "    </tr>\n",
       "  </tbody>\n",
       "</table>\n",
       "</div>"
      ],
      "text/plain": [
       "         HU  POP                                           geometry\n",
       "Zipcode                                                            \n",
       "12        0    0  POLYGON ((-84069.50625625165 251173.9768131553...\n",
       "16       28   32  POLYGON ((146716.0443333071 -276914.8214906069...\n",
       "17       56   15  POLYGON ((88071.41057265643 -49057.84702989308...\n",
       "18        0    0  POLYGON ((93928.84706553049 -381979.052042436,...\n",
       "19       26   36  POLYGON ((-9312.641563633806 307120.0380001596..."
      ]
     },
     "execution_count": 2,
     "metadata": {},
     "output_type": "execute_result"
    }
   ],
   "source": [
    "zips=gpd.read_file(\"Data/Zips.shp\").set_index('Zipcode')\n",
    "zips.geometry=zips.geometry.buffer(0)\n",
    "zips.head()"
   ]
  },
  {
   "cell_type": "markdown",
   "metadata": {},
   "source": [
    "I am given the following set of rules to classify zip codes in urban, rural, and suburban zip codes:\n",
    "- **Urban**: > 1600 housing units per square mile\n",
    "- **Rural**: < 64 housing units per square mile\n",
    "- **Exurban**: between 64 and 64 housing units per square mile\n",
    "\n",
    "I create a series of housing unit densities and then populate a new field called \"Class\" that categorizes each zip code into one of these categories by querying HU density series. Below, I show that roughly a third of zip codes fall into each of these categories."
   ]
  },
  {
   "cell_type": "code",
   "execution_count": 3,
   "metadata": {
    "collapsed": false
   },
   "outputs": [
    {
     "data": {
      "text/plain": [
       "Rural      0.366999\n",
       "Exurban    0.347622\n",
       "Urban      0.285379\n",
       "dtype: float64"
      ]
     },
     "execution_count": 3,
     "metadata": {},
     "output_type": "execute_result"
    }
   ],
   "source": [
    "#Calculate housing unit density\n",
    "hu_p_sqmi=zips.HU/(zips.area/2.59e+6)\n",
    "zips.loc[hu_p_sqmi>1600,'Class']='Urban'\n",
    "zips.loc[hu_p_sqmi<64,'Class']='Rural'\n",
    "zips.Class.fillna('Exurban',inplace=True)\n",
    "zips.Class.value_counts() / len(zips)"
   ]
  },
  {
   "cell_type": "markdown",
   "metadata": {},
   "source": [
    "Then I read in a shapefile of California counties. The next step is to determine for each zip code, which county it is located within. However, this is not super straightforward because of the fact that zip codes are not nested neatly within counties. Therefore, I instead have to determine the 'best-matched' county, which I define as the county that the zip code has the largest portion of its area within. There are a number of other ways that this could be done such as choosing the county that the zip code's centroid is located in (not as accurate), or choosing the county that has the largest portion of its population within (more accurate, but also requiring block level population data). "
   ]
  },
  {
   "cell_type": "code",
   "execution_count": 4,
   "metadata": {
    "collapsed": false
   },
   "outputs": [
    {
     "data": {
      "text/html": [
       "<div>\n",
       "<table border=\"1\" class=\"dataframe\">\n",
       "  <thead>\n",
       "    <tr style=\"text-align: right;\">\n",
       "      <th></th>\n",
       "      <th>NAME</th>\n",
       "      <th>geometry</th>\n",
       "    </tr>\n",
       "    <tr>\n",
       "      <th>FIPS</th>\n",
       "      <th></th>\n",
       "      <th></th>\n",
       "    </tr>\n",
       "  </thead>\n",
       "  <tbody>\n",
       "    <tr>\n",
       "      <th>06001</th>\n",
       "      <td>Alameda</td>\n",
       "      <td>(POLYGON ((-170110.5438936634 -30635.387532317...</td>\n",
       "    </tr>\n",
       "    <tr>\n",
       "      <th>06003</th>\n",
       "      <td>Alpine</td>\n",
       "      <td>POLYGON ((8739.968452133671 101531.7376470827,...</td>\n",
       "    </tr>\n",
       "    <tr>\n",
       "      <th>06005</th>\n",
       "      <td>Amador</td>\n",
       "      <td>POLYGON ((-6755.187296494563 77002.27672929503...</td>\n",
       "    </tr>\n",
       "    <tr>\n",
       "      <th>06007</th>\n",
       "      <td>Butte</td>\n",
       "      <td>(POLYGON ((-175988.7392603862 205877.926178496...</td>\n",
       "    </tr>\n",
       "    <tr>\n",
       "      <th>06009</th>\n",
       "      <td>Calaveras</td>\n",
       "      <td>(POLYGON ((-36381.80589585088 7475.7498299703,...</td>\n",
       "    </tr>\n",
       "  </tbody>\n",
       "</table>\n",
       "</div>"
      ],
      "text/plain": [
       "            NAME                                           geometry\n",
       "FIPS                                                               \n",
       "06001    Alameda  (POLYGON ((-170110.5438936634 -30635.387532317...\n",
       "06003     Alpine  POLYGON ((8739.968452133671 101531.7376470827,...\n",
       "06005     Amador  POLYGON ((-6755.187296494563 77002.27672929503...\n",
       "06007      Butte  (POLYGON ((-175988.7392603862 205877.926178496...\n",
       "06009  Calaveras  (POLYGON ((-36381.80589585088 7475.7498299703,..."
      ]
     },
     "execution_count": 4,
     "metadata": {},
     "output_type": "execute_result"
    }
   ],
   "source": [
    "counties=gpd.read_file(\"Data/Counties.shp\").set_index('FIPS')[['NAME','geometry']]\n",
    "counties.geometry=counties.geometry.buffer(0)\n",
    "counties.head()"
   ]
  },
  {
   "cell_type": "markdown",
   "metadata": {},
   "source": [
    "Pursuing my method of matching counties to zip codes based on areal overlap, I use the overlay tools in Geopandas to calculate the intersection between zip codes and counties. I then group by zip code and county FIPS while summing up the area of each zip / county combination. Then by dividing this by the area of zip codes, I get a series that contains for each zip code, the proportion of its population in each county that it intersects. Most zip codes are pretty close to being entirely located within one county."
   ]
  },
  {
   "cell_type": "code",
   "execution_count": 5,
   "metadata": {
    "collapsed": false
   },
   "outputs": [
    {
     "name": "stderr",
     "output_type": "stream",
     "text": [
      "TopologyException: found non-noded intersection between LINESTRING (-158599 106557, -158607 106583) and LINESTRING (-158607 106583, -158590 106496) at -158606.67448376215 106583.21282431821\n",
      "ERROR:shapely.geos:TopologyException: found non-noded intersection between LINESTRING (-158599 106557, -158607 106583) and LINESTRING (-158607 106583, -158590 106496) at -158606.67448376215 106583.21282431821\n"
     ]
    },
    {
     "data": {
      "text/plain": [
       "Zipcode  FIPS \n",
       "12       06035    0.994439\n",
       "         06063    0.005561\n",
       "16       06029    1.000000\n",
       "17       06019    0.997102\n",
       "         06027    0.002238\n",
       "Name: Area, dtype: float64"
      ]
     },
     "execution_count": 5,
     "metadata": {},
     "output_type": "execute_result"
    }
   ],
   "source": [
    "zip_x_cnty=overlay(counties.reset_index(),zips.reset_index(),how='intersection')\n",
    "zip_x_cnty_area=zip_x_cnty.groupby(['Zipcode','FIPS']).apply(lambda x:x.area.sum())/zips.area\n",
    "zip_x_cnty_area.name='Area'\n",
    "zip_x_cnty_area.head()"
   ]
  },
  {
   "cell_type": "markdown",
   "metadata": {},
   "source": [
    "I then identify the \"best-matched\" county by grouping by zip code and selecting from each group, the county that has the largest area proportion value. As you can see, at least for the first few zip codes, this matches up with what we would expect to see given the proportions above."
   ]
  },
  {
   "cell_type": "code",
   "execution_count": 6,
   "metadata": {
    "collapsed": false
   },
   "outputs": [
    {
     "data": {
      "text/plain": [
       "Zipcode\n",
       "12    06035\n",
       "16    06029\n",
       "17    06019\n",
       "18    06111\n",
       "19    06035\n",
       "Name: FIPS, dtype: object"
      ]
     },
     "execution_count": 6,
     "metadata": {},
     "output_type": "execute_result"
    }
   ],
   "source": [
    "best_county=zip_x_cnty_area.reset_index().groupby('Zipcode').apply(lambda group:group.loc[group.Area.idxmax()])['FIPS']\n",
    "best_county.head()"
   ]
  },
  {
   "cell_type": "markdown",
   "metadata": {},
   "source": [
    "Now that we have a 1 county for each zip code, the next step is to determine the proportion of each county's population that falls within each of the 3 zip code categories. I group zip codes by county and by classification, while summing up population. Then by dividing the count in each type by the total, I get the proportion in each type."
   ]
  },
  {
   "cell_type": "code",
   "execution_count": 7,
   "metadata": {
    "collapsed": false
   },
   "outputs": [
    {
     "data": {
      "text/html": [
       "<div>\n",
       "<table border=\"1\" class=\"dataframe\">\n",
       "  <thead>\n",
       "    <tr style=\"text-align: right;\">\n",
       "      <th>Class</th>\n",
       "      <th>Exurban</th>\n",
       "      <th>Rural</th>\n",
       "      <th>Urban</th>\n",
       "    </tr>\n",
       "    <tr>\n",
       "      <th>FIPS</th>\n",
       "      <th></th>\n",
       "      <th></th>\n",
       "      <th></th>\n",
       "    </tr>\n",
       "  </thead>\n",
       "  <tbody>\n",
       "    <tr>\n",
       "      <th>06001</th>\n",
       "      <td>0.364276</td>\n",
       "      <td>0.032583</td>\n",
       "      <td>0.603141</td>\n",
       "    </tr>\n",
       "    <tr>\n",
       "      <th>06003</th>\n",
       "      <td>0.000000</td>\n",
       "      <td>1.000000</td>\n",
       "      <td>0.000000</td>\n",
       "    </tr>\n",
       "    <tr>\n",
       "      <th>06005</th>\n",
       "      <td>0.107546</td>\n",
       "      <td>0.892454</td>\n",
       "      <td>0.000000</td>\n",
       "    </tr>\n",
       "    <tr>\n",
       "      <th>06007</th>\n",
       "      <td>0.440459</td>\n",
       "      <td>0.391637</td>\n",
       "      <td>0.167903</td>\n",
       "    </tr>\n",
       "    <tr>\n",
       "      <th>06009</th>\n",
       "      <td>0.004289</td>\n",
       "      <td>0.995711</td>\n",
       "      <td>0.000000</td>\n",
       "    </tr>\n",
       "  </tbody>\n",
       "</table>\n",
       "</div>"
      ],
      "text/plain": [
       "Class   Exurban     Rural     Urban\n",
       "FIPS                               \n",
       "06001  0.364276  0.032583  0.603141\n",
       "06003  0.000000  1.000000  0.000000\n",
       "06005  0.107546  0.892454  0.000000\n",
       "06007  0.440459  0.391637  0.167903\n",
       "06009  0.004289  0.995711  0.000000"
      ]
     },
     "execution_count": 7,
     "metadata": {},
     "output_type": "execute_result"
    }
   ],
   "source": [
    "county_pop_counts=zips.groupby([best_county,zips.Class])['POP'].sum().unstack().fillna(0)\n",
    "county_pop_pct=county_pop_counts.div(county_pop_counts.sum(1),axis=0)\n",
    "county_pop_pct.head()"
   ]
  },
  {
   "cell_type": "markdown",
   "metadata": {},
   "source": [
    "A quick sort of counties by proportion living in urban zips and by proportion living in rural zips shows about what we would expect: more people are living in urban areas in counties that are located in the Bay Area or the LA Basin; and more people are living in rural areas in counties located in the eastern and northern parts of the state."
   ]
  },
  {
   "cell_type": "code",
   "execution_count": 8,
   "metadata": {
    "collapsed": false
   },
   "outputs": [
    {
     "data": {
      "text/plain": [
       "0    San Francisco\n",
       "1           Orange\n",
       "2      Los Angeles\n",
       "3        San Mateo\n",
       "4      Santa Clara\n",
       "Name: FIPS, dtype: object"
      ]
     },
     "execution_count": 8,
     "metadata": {},
     "output_type": "execute_result"
    }
   ],
   "source": [
    "county_pop_pct.sort('Urban',ascending=False).reset_index()['FIPS'].map(counties['NAME'])[:5]"
   ]
  },
  {
   "cell_type": "code",
   "execution_count": 9,
   "metadata": {
    "collapsed": false
   },
   "outputs": [
    {
     "data": {
      "text/plain": [
       "0      Siskiyou\n",
       "1    San Benito\n",
       "2        Lassen\n",
       "3         Modoc\n",
       "4          Mono\n",
       "Name: FIPS, dtype: object"
      ]
     },
     "execution_count": 9,
     "metadata": {},
     "output_type": "execute_result"
    }
   ],
   "source": [
    "county_pop_pct.sort('Rural',ascending=False).reset_index()['FIPS'].map(counties['NAME'])[:5]"
   ]
  },
  {
   "cell_type": "markdown",
   "metadata": {},
   "source": [
    "Lastly, I make a quick plot that symbolizes counties based on their % living in urban zip codes. One surprise, perhaps, is that San Bernadino county (the large county in the southeastern part of the state that contains Joshua Tree and the Mojave Desert) is showing up as having a large urban population. This is because the overwhelming majority of the population in that county lives in the corner that is right outside Los Angeles. So while the county as a whole is very low density, the average person living in that county does not live in a low density area."
   ]
  },
  {
   "cell_type": "code",
   "execution_count": 12,
   "metadata": {
    "collapsed": false
   },
   "outputs": [
    {
     "data": {
      "image/png": "[encoded data removed]",
      "text/plain": [
       "<matplotlib.figure.Figure at 0x1aa21970>"
      ]
     },
     "metadata": {},
     "output_type": "display_data"
    }
   ],
   "source": [
    "gdf=gpd.GeoDataFrame(county_pop_pct, geometry=counties.geometry)\n",
    "gdf.plot(column='Urban',scheme='QUANTILES', k=5, colormap='OrRd')\n",
    "gdf.to_file('CountyPctZipCategory.shp')"
   ]
  }
 ],
 "metadata": {
  "kernelspec": {
   "display_name": "Python 2",
   "language": "python",
   "name": "python2"
  },
  "language_info": {
   "codemirror_mode": {
    "name": "ipython",
    "version": 2
   },
   "file_extension": ".py",
   "mimetype": "text/x-python",
   "name": "python",
   "nbconvert_exporter": "python",
   "pygments_lexer": "ipython2",
   "version": "2.7.11"
  }
 },
 "nbformat": 4,
 "nbformat_minor": 0
}
